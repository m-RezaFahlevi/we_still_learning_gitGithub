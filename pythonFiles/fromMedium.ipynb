{
 "cells": [
  {
   "cell_type": "code",
   "execution_count": 1,
   "metadata": {},
   "outputs": [],
   "source": [
    "add_func = lambda z: z**2\n",
    "is_odd = lambda z: z%2 == 1\n",
    "multiply = lambda x,y: x*y"
   ]
  },
  {
   "cell_type": "code",
   "execution_count": 2,
   "metadata": {},
   "outputs": [
    {
     "name": "stdout",
     "output_type": "stream",
     "text": [
      "[0, 1, 2, 3, 4, 5, 6, 7, 8, 9]\n"
     ]
    }
   ],
   "source": [
    "aList = list(range(10))\n",
    "print(aList)"
   ]
  },
  {
   "cell_type": "code",
   "execution_count": 3,
   "metadata": {},
   "outputs": [
    {
     "name": "stdout",
     "output_type": "stream",
     "text": [
      "[0, 1, 4, 9, 16, 25, 36, 49, 64, 81]\n"
     ]
    }
   ],
   "source": [
    "#Syntax of list comprehension\n",
    "#[expression(x) for x in aList if optional_condition(x))]\n",
    "\n",
    "#using lambda function\n",
    "print(list(map(add_func, aList)))"
   ]
  },
  {
   "cell_type": "code",
   "execution_count": 5,
   "metadata": {},
   "outputs": [
    {
     "name": "stdout",
     "output_type": "stream",
     "text": [
      "[0, 1, 4, 9, 16, 25, 36, 49, 64, 81]\n"
     ]
    }
   ],
   "source": [
    "#using syntax of list comprehension\n",
    "print([x**2 for x in aList])"
   ]
  },
  {
   "cell_type": "code",
   "execution_count": 21,
   "metadata": {},
   "outputs": [
    {
     "name": "stdout",
     "output_type": "stream",
     "text": [
      "[1, 3, 5, 7, 9]\n"
     ]
    }
   ],
   "source": [
    "#using lambda function\n",
    "print(list(filter(is_odd, aList)))"
   ]
  },
  {
   "cell_type": "code",
   "execution_count": 22,
   "metadata": {},
   "outputs": [
    {
     "name": "stdout",
     "output_type": "stream",
     "text": [
      "[1, 3, 5, 7, 9]\n"
     ]
    }
   ],
   "source": [
    "#using syntax of list comprehension\n",
    "print([x for x in aList if x%2 == 1])"
   ]
  },
  {
   "cell_type": "code",
   "execution_count": 10,
   "metadata": {},
   "outputs": [
    {
     "name": "stdout",
     "output_type": "stream",
     "text": [
      "a = 0, b = 1, c = 2, d = 3\n"
     ]
    }
   ],
   "source": [
    "#List manipulation -- circular list\n",
    "a, b, c, d = aList[0:4]\n",
    "print(f'a = {a}, b = {b}, c = {c}, d = {d}')"
   ]
  },
  {
   "cell_type": "code",
   "execution_count": 11,
   "metadata": {},
   "outputs": [
    {
     "name": "stdout",
     "output_type": "stream",
     "text": [
      "a = 0, b = [1, 2, 3, 4, 5, 6, 7], c = 8, d = 9\n"
     ]
    }
   ],
   "source": [
    "a, *b, c, d = aList\n",
    "print(f'a = {a}, b = {b}, c = {c}, d = {d}')"
   ]
  },
  {
   "cell_type": "code",
   "execution_count": 12,
   "metadata": {},
   "outputs": [],
   "source": [
    "#Zipping and enumerate -- for-loops\n",
    "numList = [0, 1, 2]\n",
    "engList = ['zero', 'one', 'two']\n",
    "espList = ['cero', 'uno', 'dos']"
   ]
  },
  {
   "cell_type": "code",
   "execution_count": 13,
   "metadata": {},
   "outputs": [
    {
     "name": "stdout",
     "output_type": "stream",
     "text": [
      "0 is zero in English and cero in Espanol\n",
      "1 is one in English and uno in Espanol\n",
      "2 is two in English and dos in Espanol\n"
     ]
    }
   ],
   "source": [
    "for num, eng, esp in zip(numList, engList, espList):\n",
    "    print(f'{num} is {eng} in English and {esp} in Espanol')"
   ]
  },
  {
   "cell_type": "code",
   "execution_count": 16,
   "metadata": {},
   "outputs": [
    {
     "name": "stdout",
     "output_type": "stream",
     "text": [
      "('one', 'two', 'zero')\n",
      "('uno', 'dos', 'cero')\n",
      "(1, 2, 0)\n"
     ]
    }
   ],
   "source": [
    "Eng = list(zip(engList, espList, numList))\n",
    "Eng.sort() #sort by engList\n",
    "a, b, c = zip(*Eng)\n",
    "print(a)\n",
    "print(b)\n",
    "print(c)"
   ]
  },
  {
   "cell_type": "code",
   "execution_count": 17,
   "metadata": {},
   "outputs": [],
   "source": [
    "upperCase = ['A', 'B', 'C', 'D', 'E']\n",
    "lowerCase = ['a', 'b', 'c', 'd', 'e']"
   ]
  },
  {
   "cell_type": "code",
   "execution_count": 18,
   "metadata": {},
   "outputs": [
    {
     "name": "stdout",
     "output_type": "stream",
     "text": [
      "0: A and a\n",
      "1: B and b\n",
      "2: C and c\n",
      "3: D and d\n",
      "4: E and e\n"
     ]
    }
   ],
   "source": [
    "for i, (upper, lower) in enumerate(zip(upperCase, lowerCase)):\n",
    "    print(f'{i}: {upper} and {lower}')"
   ]
  },
  {
   "cell_type": "code",
   "execution_count": 19,
   "metadata": {},
   "outputs": [],
   "source": [
    "def gen(n):\n",
    "    while True:\n",
    "        yield n\n",
    "        n += 1\n",
    "G = gen(10)"
   ]
  },
  {
   "cell_type": "code",
   "execution_count": 20,
   "metadata": {},
   "outputs": [
    {
     "name": "stdout",
     "output_type": "stream",
     "text": [
      "10\n",
      "11\n",
      "12\n",
      "13\n",
      "14\n",
      "15\n",
      "16\n",
      "17\n",
      "18\n"
     ]
    }
   ],
   "source": [
    "for i in range(1, 10):\n",
    "    print(next(G))"
   ]
  },
  {
   "cell_type": "code",
   "execution_count": null,
   "metadata": {},
   "outputs": [],
   "source": []
  }
 ],
 "metadata": {
  "kernelspec": {
   "display_name": "Python 3",
   "language": "python",
   "name": "python3"
  },
  "language_info": {
   "codemirror_mode": {
    "name": "ipython",
    "version": 3
   },
   "file_extension": ".py",
   "mimetype": "text/x-python",
   "name": "python",
   "nbconvert_exporter": "python",
   "pygments_lexer": "ipython3",
   "version": "3.7.6"
  }
 },
 "nbformat": 4,
 "nbformat_minor": 4
}
