{
 "cells": [
  {
   "cell_type": "markdown",
   "metadata": {},
   "source": [
    "# Solution Notebook for Exercise in section 1.4\n",
    "#### Muhammad Reza Fahlevi\n",
    "This notebook discuss about the solution for some excercise appear in book \n",
    "Walpole, Myers, Myers, Ye. <i>Probability & Statistics for Engineers & Scientist.</i> Pearson\n",
    "\n",
    "### Some Important Equation\n",
    "#### Sample Mean\n",
    "$$\\widetilde x = \\sum_{i = 0}^{n} \\frac{x_i}{n} = \\frac{x_1 + x_2 + ... + x_n}{n}$$\n",
    "In this case $n \\in N$\n",
    "#### Median Value\n",
    "$$\\widetilde x = \\begin{cases} x_{\\frac{n+1}{2}} && \\text{if n is odd} \\\\ \\frac{1}{2}(x_{\\frac{n}{2}} + x_{\\frac{x}{2} + 1}) && \\text{if n is even}\\end{cases}$$\n",
    "#### Variance Value\n",
    "$$s^2 = \\sum_{i = 1}^{n} \\frac{(x_i - \\bar x)^2}{n}$$\n",
    "#### Standard Deviation\n",
    "$$\n",
    "\\begin{align}\n",
    "s & = \\sqrt{s^2} \\\\\n",
    "s & = \\sqrt{ \\sum_{i = 0}^{n} \\frac{(x_i - \\bar x)^2}{n}}\n",
    "\\end{align}\n",
    "$$\n",
    "\n",
    "### Exercise 1.1\n",
    "The following measurements were recorded for the drying time, in hours, of a certain brand of latex paint.\n",
    "$$\n",
    "\\begin{align}\n",
    "3.4 && 2.5 && 4.8 && 2.9 && 3.6 \\\\\n",
    "2.8 && 3.3 && 5.6 && 3.7 && 2.8 \\\\\n",
    "4.8 && 4.0 && 5.2 && 3.0 && 4.8\n",
    "\\end{align}\n",
    "$$\n",
    "Assume that the measurements are a simple random sample.\n",
    "\n",
    "(a). What is the sample size for the above sample?"
   ]
  },
  {
   "cell_type": "code",
   "execution_count": 3,
   "metadata": {},
   "outputs": [
    {
     "name": "stdout",
     "output_type": "stream",
     "text": [
      "The data : \n",
      "[3.4, 2.5, 4.8, 2.9, 3.6, 2.8, 3.3, 5.6, 3.7, 2.8, 4.8, 4.0, 5.2, 3.0, 4.8]\n",
      "\n",
      "length of the datum is 15\n"
     ]
    }
   ],
   "source": [
    "# Prepare the tools\n",
    "import numpy as np\n",
    "import matplotlib.pyplot as plt\n",
    "\n",
    "datum = [3.4, 2.5, 4.8, 2.9, 3.6, 2.8, 3.3, 5.6, 3.7, 2.8, 4.8, 4.0, 5.2, 3.0, 4.8]\n",
    "print(f'The data : \\n{datum}\\n')\n",
    "print(f'length of the datum is {len(datum)}')"
   ]
  },
  {
   "cell_type": "markdown",
   "metadata": {},
   "source": [
    "(b). Calculate the sample mean for of this data"
   ]
  },
  {
   "cell_type": "code",
   "execution_count": 4,
   "metadata": {},
   "outputs": [
    {
     "name": "stdout",
     "output_type": "stream",
     "text": [
      "Sample mean for this data : 3.813333333333333\n"
     ]
    }
   ],
   "source": [
    "print(f'Sample mean for this data : {np.mean(datum)}')"
   ]
  },
  {
   "cell_type": "markdown",
   "metadata": {},
   "source": [
    "(c). Calculate the sample median for this data"
   ]
  },
  {
   "cell_type": "code",
   "execution_count": 6,
   "metadata": {},
   "outputs": [
    {
     "name": "stdout",
     "output_type": "stream",
     "text": [
      "Sample median for this data : 3.6\n"
     ]
    }
   ],
   "source": [
    "print(f'Sample median for this data : {np.median(datum)}')"
   ]
  },
  {
   "cell_type": "markdown",
   "metadata": {},
   "source": [
    "(d). Calculate the variance and the standard deviation"
   ]
  },
  {
   "cell_type": "code",
   "execution_count": 8,
   "metadata": {},
   "outputs": [
    {
     "name": "stdout",
     "output_type": "stream",
     "text": [
      "The variance for this data : 0.9224888888888889\n",
      "The standard deviation for this data : 0.9604628513841068\n"
     ]
    }
   ],
   "source": [
    "print(f'The variance for this data : {np.var(datum)}')\n",
    "print(f'The standard deviation for this data : {np.std(datum)}')"
   ]
  },
  {
   "cell_type": "markdown",
   "metadata": {},
   "source": [
    "(e). Plot the histogram"
   ]
  },
  {
   "cell_type": "code",
   "execution_count": 13,
   "metadata": {},
   "outputs": [
    {
     "data": {
      "image/png": "[encoded data removed]",
      "text/plain": [
       "<Figure size 432x288 with 1 Axes>"
      ]
     },
     "metadata": {
      "needs_background": "light"
     },
     "output_type": "display_data"
    }
   ],
   "source": [
    "plt.hist(datum)\n",
    "plt.show()"
   ]
  },
  {
   "cell_type": "markdown",
   "metadata": {},
   "source": [
    "### "
   ]
  }
 ],
 "metadata": {
  "kernelspec": {
   "display_name": "Python 3",
   "language": "python",
   "name": "python3"
  },
  "language_info": {
   "codemirror_mode": {
    "name": "ipython",
    "version": 3
   },
   "file_extension": ".py",
   "mimetype": "text/x-python",
   "name": "python",
   "nbconvert_exporter": "python",
   "pygments_lexer": "ipython3",
   "version": "3.7.6"
  }
 },
 "nbformat": 4,
 "nbformat_minor": 4
}
