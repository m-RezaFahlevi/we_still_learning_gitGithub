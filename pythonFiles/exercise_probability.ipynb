{
 "nbformat": 4,
 "nbformat_minor": 2,
 "metadata": {
  "language_info": {
   "name": "python",
   "codemirror_mode": {
    "name": "ipython",
    "version": 3
   },
   "version": "3.8.1-final"
  },
  "orig_nbformat": 2,
  "file_extension": ".py",
  "mimetype": "text/x-python",
  "name": "python",
  "npconvert_exporter": "python",
  "pygments_lexer": "ipython3",
  "version": 3,
  "kernelspec": {
   "name": "python37664bitbasecondadf9cf22eca12466b8782bbcf27cc9aa9",
   "display_name": "Python 3.7.6 64-bit ('base': conda)"
  }
 },
 "cells": [
  {
   "cell_type": "markdown",
   "metadata": {},
   "source": [
    "# Exercise 2.12\n",
    "$\n",
    "\\text{Exercise and diet are beong studied as possible sibstitues for medication to lower blood pressure.} \\\\\n",
    "\\text{Three groups of subjects wil be used to study the effect of exercise.} \\\\\n",
    "\\text{Group one is sedentary while group two is wals and group three swims for 1 hour a day.} \\\\\n",
    "\\text{Half of ecah of the three exercise groups will be on a salt-free diet.} \\\\\n",
    "\\text{And additional group of subjects will not exercise nor restrict their slat, but will take the standard medication.} \\\\\n",
    "\\text{Use Z for sedentary, W for walker, S for swimmer, Y for salt, N for no salt, M for medication and F for medication free.} \\\\\n",
    "$\n",
    "\n",
    "$\n",
    "\\text{(a). Show all of the elements of the sample space S.} \\\\\n",
    "$"
   ]
  },
  {
   "cell_type": "code",
   "execution_count": 2,
   "metadata": {},
   "outputs": [
    {
     "name": "stdout",
     "output_type": "stream",
     "text": "['Z', 'W', 'S', 'Y', 'N', 'M', 'F']\n"
    }
   ],
   "source": [
    "S = ['Z', 'W', 'S', 'Y', 'N', 'M', 'F']\n",
    "print(S)"
   ]
  },
  {
   "cell_type": "markdown",
   "metadata": {},
   "source": [
    "$\n",
    "\\text{(b). Given that A is the set of nomedicatied subjects and B is the set of walkers, list the elements of A} \\cup \\text{B.}\n",
    "$"
   ]
  },
  {
   "cell_type": "code",
   "execution_count": 3,
   "metadata": {},
   "outputs": [
    {
     "name": "stdout",
     "output_type": "stream",
     "text": "['W', 'F']\n"
    }
   ],
   "source": [
    "print([i for i in S if i == 'F' or i == 'W'])"
   ]
  },
  {
   "cell_type": "markdown",
   "metadata": {},
   "source": [
    "# Exercise 2.14\n",
    "\n",
    "$\n",
    "\\text{if S = } \\{ \\text{0, 1, 2, 3, 4, 5, 6, 7, 8, 9} \\} \\text{ and A = } \\{ \\text{0, 2, 4, 6, 8} \\} \\text{, B = } \\{ \\text{1, 3, 5, 7, 9} \\} \\text{, C = } \\{ \\text{2, 3, 4, 5} \\} \\text{, and D = } \\{ \\text{1, 6, 7} \\} \\\\ \\text{list the elements of the sets corresponding to the following events:} \\\\\n",
    "\\text{(a). } A \\cup C = \\{ a \\in A \\cup b \\in C \\}\n",
    "$\n"
   ]
  },
  {
   "cell_type": "code",
   "execution_count": 69,
   "metadata": {},
   "outputs": [
    {
     "name": "stdout",
     "output_type": "stream",
     "text": "S = [0, 1, 2, 3, 4, 5, 6, 7, 8, 9]\nA = [0, 2, 4, 6, 8]\nB = [1, 3, 5, 7, 9]\nC = [2, 3, 4, 5]\nD = [1, 6, 7]\nAB = [0, 2, 4, 6, 8, 1, 3, 5, 7, 9]\n"
    }
   ],
   "source": [
    "#Setup set S, A, B, C, and D\n",
    "S = []; A = []; B = []; C = []; D = [1, 6, 7]\n",
    "for i in range(0,10): S.append(i)\n",
    "print(f'S = {S}')\n",
    "\n",
    "[A.append(i) for i in S if i%2 == 0]\n",
    "print(f'A = {A}')\n",
    "\n",
    "[B.append(i) for i in S if i%2 != 0]\n",
    "print(f'B = {B}')\n",
    "\n",
    "[C.append(i) for i in range(2,6)]\n",
    "print(f'C = {C}')\n",
    "\n",
    "print(f'D = {D}')\n",
    "\n",
    "# A union B\n",
    "AB = []\n",
    "AB.extend(A)\n",
    "AB.extend(B)\n",
    "print(f'AB = {AB}')"
   ]
  },
  {
   "cell_type": "markdown",
   "metadata": {},
   "source": [
    "$\\text{(b). } A \\cap B = \\varnothing $"
   ]
  },
  {
   "cell_type": "code",
   "execution_count": 30,
   "metadata": {},
   "outputs": [
    {
     "name": "stdout",
     "output_type": "stream",
     "text": "[]\n"
    }
   ],
   "source": [
    "print([i for i in S if i%2 == 0 and i%2 != 0])"
   ]
  },
  {
   "cell_type": "markdown",
   "metadata": {},
   "source": [
    "$\\text{(c). } C^c = \\{ c | c \\notin C \\}$"
   ]
  },
  {
   "cell_type": "code",
   "execution_count": 35,
   "metadata": {},
   "outputs": [
    {
     "name": "stdout",
     "output_type": "stream",
     "text": "[0, 1, 6, 7, 8, 9]\n"
    }
   ],
   "source": [
    "Cc = [] #Set C-complement\n",
    "[Cc.append(i) for i in S if i not in range(2,6)]\n",
    "print(Cc)"
   ]
  },
  {
   "cell_type": "markdown",
   "metadata": {},
   "source": [
    "$\\text{(d). } (C^c \\cap D) \\cup B = \\{(c \\notin C \\text{ and } d \\in D) \\text{ or } b \\in B \\}$"
   ]
  },
  {
   "cell_type": "code",
   "execution_count": 80,
   "metadata": {},
   "outputs": [
    {
     "name": "stdout",
     "output_type": "stream",
     "text": "[1, 3, 5, 7, 9]\n[1, 3, 5, 6, 7, 9]\n"
    }
   ],
   "source": [
    "Cc_nB = [1,6,7]\n",
    "print(B)\n",
    "\n",
    "print([1,3,5,6,7,9])"
   ]
  },
  {
   "cell_type": "markdown",
   "metadata": {},
   "source": [
    "$\\text{(e). } (S \\cap C)^c = \\varnothing$"
   ]
  },
  {
   "cell_type": "code",
   "execution_count": null,
   "metadata": {},
   "outputs": [],
   "source": []
  }
 ]
}